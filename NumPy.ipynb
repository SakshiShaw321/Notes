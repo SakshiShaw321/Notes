{
 "cells": [
  {
   "cell_type": "markdown",
   "metadata": {
    "id": "N0r9jbayJmcc"
   },
   "source": [
    "# Numpy"
   ]
  },
  {
   "cell_type": "markdown",
   "metadata": {
    "id": "-QY3uzIhJr28"
   },
   "source": [
    "Numpy is a general perpose array processing package.It provides a high level performance multidimwntion array object and tool for woorking with these array.It is the fundamental package for scitific computing with python."
   ]
  },
  {
   "cell_type": "code",
   "execution_count": 1426,
   "metadata": {
    "executionInfo": {
     "elapsed": 38,
     "status": "ok",
     "timestamp": 1747809969402,
     "user": {
      "displayName": "Sakshi Shaw",
      "userId": "15432832009664614016"
     },
     "user_tz": -330
    },
    "id": "5AS7i8rxvmgY"
   },
   "outputs": [],
   "source": [
    "import numpy as np# importing"
   ]
  },
  {
   "cell_type": "code",
   "execution_count": 1427,
   "metadata": {
    "colab": {
     "base_uri": "https://localhost:8080/",
     "height": 36
    },
    "executionInfo": {
     "elapsed": 4,
     "status": "ok",
     "timestamp": 1747809969409,
     "user": {
      "displayName": "Sakshi Shaw",
      "userId": "15432832009664614016"
     },
     "user_tz": -330
    },
    "id": "QZe50XmFwAzs",
    "outputId": "dc65944c-dcd8-4966-c589-02e91a91e9a3"
   },
   "outputs": [
    {
     "data": {
      "application/vnd.google.colaboratory.intrinsic+json": {
       "type": "string"
      },
      "text/plain": [
       "'2.0.2'"
      ]
     },
     "execution_count": 1427,
     "metadata": {},
     "output_type": "execute_result"
    }
   ],
   "source": [
    "np.__version__  #to check the version"
   ]
  },
  {
   "cell_type": "markdown",
   "metadata": {
    "id": "bTcMMpIWLpWk"
   },
   "source": [
    "# Array\n"
   ]
  },
  {
   "cell_type": "markdown",
   "metadata": {
    "id": "H-iONataLufS"
   },
   "source": [
    "An array is data structure that stores values of same data type.In python yhis is the main difference between array and list. while python list can contain values corresponding to different data types,array in python can only contain values corresponding to same data type."
   ]
  },
  {
   "cell_type": "markdown",
   "metadata": {
    "id": "RtvkcmYqmCUN"
   },
   "source": [
    "1D Array\n",
    "a = np.array([10, 20, 30])\n",
    "\n",
    "2D Array\n",
    "b = np.array([[1, 2, 3], [4, 5, 6]])\n",
    "\n",
    "3D Array\n",
    "c = np.array([[[1], [2]], [[3], [4]]])\n"
   ]
  },
  {
   "cell_type": "code",
   "execution_count": 1428,
   "metadata": {
    "executionInfo": {
     "elapsed": 6,
     "status": "ok",
     "timestamp": 1747809969418,
     "user": {
      "displayName": "Sakshi Shaw",
      "userId": "15432832009664614016"
     },
     "user_tz": -330
    },
    "id": "SDfiZHu-7Db7"
   },
   "outputs": [],
   "source": [
    "# create a array\n",
    "#np.array()\n",
    "#np.arange()\n",
    "#np.linesapsce()\n",
    "#np.random.randint()\n",
    "#np.randdom.rand ()\n",
    "#np.randdom.randn()\n",
    "#np.zeros\n",
    "#np.once()\n",
    "#np.identity(),np.eye()"
   ]
  },
  {
   "cell_type": "code",
   "execution_count": 1429,
   "metadata": {
    "colab": {
     "base_uri": "https://localhost:8080/"
    },
    "executionInfo": {
     "elapsed": 20,
     "status": "ok",
     "timestamp": 1747809969442,
     "user": {
      "displayName": "Sakshi Shaw",
      "userId": "15432832009664614016"
     },
     "user_tz": -330
    },
    "id": "0SPZHw-pwIli",
    "outputId": "b5fe4239-5ca1-446f-f6a3-efc75fa310bd"
   },
   "outputs": [
    {
     "name": "stdout",
     "output_type": "stream",
     "text": [
      "<class 'numpy.ndarray'>\n",
      "['10' '20' 'duniya']\n"
     ]
    }
   ],
   "source": [
    "#here, arr is existing array, and np\n",
    "#Creation of array\n",
    "#array():- to create an array\n",
    "#Syntax:- np.array(collection,dtype = dt_name)\n",
    "a= np.array((10,20,\"duniya\"))\n",
    "print(type(a))  #it will repreant the type of array\n",
    "a.dtype\n",
    "print(a) # datatypes of the elements present inside the collection"
   ]
  },
  {
   "cell_type": "code",
   "execution_count": 1430,
   "metadata": {
    "colab": {
     "base_uri": "https://localhost:8080/"
    },
    "executionInfo": {
     "elapsed": 11,
     "status": "ok",
     "timestamp": 1747809969456,
     "user": {
      "displayName": "Sakshi Shaw",
      "userId": "15432832009664614016"
     },
     "user_tz": -330
    },
    "id": "uy0koCg0wMJs",
    "outputId": "d33b6998-b437-40f5-d60b-51527959cd8a"
   },
   "outputs": [
    {
     "name": "stdout",
     "output_type": "stream",
     "text": [
      "int64\n",
      "[2 3 5]\n",
      "[[1 2]\n",
      " [7 8]\n",
      " [5 4]]\n",
      "[[[   3    6    8]\n",
      "  [  10   20   30]\n",
      "  [   6    5 2003]]]\n",
      "[[[   6    5 2003]]]\n"
     ]
    }
   ],
   "source": [
    "arr = np.array([2,3,5])\n",
    "print(arr.dtype)\n",
    "type(arr)\n",
    "print(arr)  # to get the dimention of array\n",
    "arr.shape  # to know the no.of rows and coloumns\n",
    "#in case of 2D array--> o/p--> (no of coloumns,)\n",
    "#3D array--> o/p--> (no.of rows, no.of coloumns)\n",
    "#4D array--> o/p--> (no of rows,columns,no.of elements in each column)\n",
    "arr1=np.array([[1,2],[7,8],[5,4]])\n",
    "arr1.shape\n",
    "print(arr1)\n",
    "# creation of 3D array\n",
    "arr2 = np.array([[[3,6,8],[10,20,30],[6,5,2003]]])\n",
    "print(arr2)\n",
    "ar = np.array([[[6,5,2003]]])\n",
    "ar.shape\n",
    "print(ar)"
   ]
  },
  {
   "cell_type": "code",
   "execution_count": 1431,
   "metadata": {
    "colab": {
     "base_uri": "https://localhost:8080/"
    },
    "executionInfo": {
     "elapsed": 8,
     "status": "ok",
     "timestamp": 1747809969467,
     "user": {
      "displayName": "Sakshi Shaw",
      "userId": "15432832009664614016"
     },
     "user_tz": -330
    },
    "id": "1fo6ZhQ_ZD9H",
    "outputId": "cece1c24-bd3c-495c-d64b-2b237e8ec1d2"
   },
   "outputs": [
    {
     "data": {
      "text/plain": [
       "array([[[1, 2],\n",
       "        [2, 7],\n",
       "        [5, 4]]])"
      ]
     },
     "execution_count": 1431,
     "metadata": {},
     "output_type": "execute_result"
    }
   ],
   "source": [
    "np.array([[[1,2],[2,7],[5,4]]])"
   ]
  },
  {
   "cell_type": "code",
   "execution_count": 1432,
   "metadata": {
    "colab": {
     "base_uri": "https://localhost:8080/"
    },
    "executionInfo": {
     "elapsed": 7,
     "status": "ok",
     "timestamp": 1747809969476,
     "user": {
      "displayName": "Sakshi Shaw",
      "userId": "15432832009664614016"
     },
     "user_tz": -330
    },
    "id": "SwM8-ci0wM21",
    "outputId": "ee61cab1-d523-472a-b2c2-07a802a316d7"
   },
   "outputs": [
    {
     "data": {
      "text/plain": [
       "array([0, 2, 4, 6, 8])"
      ]
     },
     "execution_count": 1432,
     "metadata": {},
     "output_type": "execute_result"
    }
   ],
   "source": [
    "# create an array of shape(3,3,2)\n",
    "np.array([[[1,2],[2,7],[5,4]],[[5,4],[7,5],[8,9]],[[2,7],[3,6],[7,2]]])\n",
    "\n",
    "# to create a sequence of numbers\n",
    "# syntax:- np.arange(sv,ev+-1,sv)\n",
    "np.arange(0,10,2)\n"
   ]
  },
  {
   "cell_type": "code",
   "execution_count": 1433,
   "metadata": {
    "colab": {
     "base_uri": "https://localhost:8080/"
    },
    "executionInfo": {
     "elapsed": 8,
     "status": "ok",
     "timestamp": 1747809969485,
     "user": {
      "displayName": "Sakshi Shaw",
      "userId": "15432832009664614016"
     },
     "user_tz": -330
    },
    "id": "BZiqSv--wR5T",
    "outputId": "ea5b3167-12eb-4ec7-d8c6-512c44a00d46"
   },
   "outputs": [
    {
     "data": {
      "text/plain": [
       "array([1.        , 1.55555556, 2.11111111, 2.66666667, 3.22222222,\n",
       "       3.77777778, 4.33333333, 4.88888889, 5.44444444, 6.        ])"
      ]
     },
     "execution_count": 1433,
     "metadata": {},
     "output_type": "execute_result"
    }
   ],
   "source": [
    "# it will give you the equally spaced values\n",
    "#syntax is (sv,ev,no_of_elements) note: ev is inclusive\n",
    "np.linspace(1,6,10)"
   ]
  },
  {
   "cell_type": "code",
   "execution_count": 1434,
   "metadata": {
    "colab": {
     "base_uri": "https://localhost:8080/"
    },
    "executionInfo": {
     "elapsed": 6,
     "status": "ok",
     "timestamp": 1747809969493,
     "user": {
      "displayName": "Sakshi Shaw",
      "userId": "15432832009664614016"
     },
     "user_tz": -330
    },
    "id": "QDy55aj80rAS",
    "outputId": "0be5256a-8524-4228-bfc0-142cf2b9071d"
   },
   "outputs": [
    {
     "data": {
      "text/plain": [
       "1.5196931610526028"
      ]
     },
     "execution_count": 1434,
     "metadata": {},
     "output_type": "execute_result"
    }
   ],
   "source": [
    "np.random.randint(1,10,3)# starting and ending values is inclusive,#random is a module and randint is a function\n",
    "np.random.rand(6)# rand() is used to generate the generated desire no. of random values b/w 0 to 1 , here 6 is no. of values it will print\n",
    "np.random.randn()# randn() is used to generte random values b/w range -1 to +1 , passing values inside the function is optional, if passing the values it will generate that many numbers\n",
    "#randn()and rand() -by deafault it will generate 1 values"
   ]
  },
  {
   "cell_type": "code",
   "execution_count": 1435,
   "metadata": {
    "colab": {
     "base_uri": "https://localhost:8080/"
    },
    "executionInfo": {
     "elapsed": 65,
     "status": "ok",
     "timestamp": 1747809969560,
     "user": {
      "displayName": "Sakshi Shaw",
      "userId": "15432832009664614016"
     },
     "user_tz": -330
    },
    "id": "8U0BiKh-vNJD",
    "outputId": "875ee69e-ced3-43c5-bea6-4fd6f36f63bb"
   },
   "outputs": [
    {
     "data": {
      "text/plain": [
       "array([0.54758194, 0.42765648, 0.64293486, 0.65917994, 0.15793874,\n",
       "       0.41630011])"
      ]
     },
     "execution_count": 1435,
     "metadata": {},
     "output_type": "execute_result"
    }
   ],
   "source": [
    "np.random.rand(6)"
   ]
  },
  {
   "cell_type": "code",
   "execution_count": 1436,
   "metadata": {
    "colab": {
     "base_uri": "https://localhost:8080/"
    },
    "executionInfo": {
     "elapsed": 14,
     "status": "ok",
     "timestamp": 1747809969575,
     "user": {
      "displayName": "Sakshi Shaw",
      "userId": "15432832009664614016"
     },
     "user_tz": -330
    },
    "id": "NY_LVUlzwPXg",
    "outputId": "266b9db8-2921-405a-a716-d49509461b2a"
   },
   "outputs": [
    {
     "data": {
      "text/plain": [
       "array([-1.13229638,  1.31894986, -0.84663937, -0.46266054, -0.16794079,\n",
       "       -0.69523303, -0.00775123])"
      ]
     },
     "execution_count": 1436,
     "metadata": {},
     "output_type": "execute_result"
    }
   ],
   "source": [
    "np.random.randn(7)"
   ]
  },
  {
   "cell_type": "code",
   "execution_count": 1437,
   "metadata": {
    "colab": {
     "base_uri": "https://localhost:8080/"
    },
    "executionInfo": {
     "elapsed": 11,
     "status": "ok",
     "timestamp": 1747809969587,
     "user": {
      "displayName": "Sakshi Shaw",
      "userId": "15432832009664614016"
     },
     "user_tz": -330
    },
    "id": "y2hMbyBdiPq4",
    "outputId": "ab39f248-0d16-40dc-c60c-736450bc8097"
   },
   "outputs": [
    {
     "data": {
      "text/plain": [
       "array([6, 9, 8, 5])"
      ]
     },
     "execution_count": 1437,
     "metadata": {},
     "output_type": "execute_result"
    }
   ],
   "source": [
    "np.random.randint(5,10,4)"
   ]
  },
  {
   "cell_type": "code",
   "execution_count": 1438,
   "metadata": {
    "colab": {
     "base_uri": "https://localhost:8080/"
    },
    "executionInfo": {
     "elapsed": 13,
     "status": "ok",
     "timestamp": 1747809969602,
     "user": {
      "displayName": "Sakshi Shaw",
      "userId": "15432832009664614016"
     },
     "user_tz": -330
    },
    "id": "dgLkWC6nwYQL",
    "outputId": "b2135ea1-2d2f-4517-f457-c5873305eb0e"
   },
   "outputs": [
    {
     "name": "stdout",
     "output_type": "stream",
     "text": [
      "[[[16  8]\n",
      "  [18 19]\n",
      "  [13 17]]\n",
      "\n",
      " [[13 11]\n",
      "  [14 14]\n",
      "  [ 6 14]]\n",
      "\n",
      " [[13  5]\n",
      "  [10  1]\n",
      "  [ 1 10]]]\n",
      "3\n"
     ]
    }
   ],
   "source": [
    "#create a 3D array using randint\n",
    "arr=np.random.randint(1,20,(3,3,2))#3-column,3-row,2values\n",
    "print(arr)\n",
    "print(arr.ndim)"
   ]
  },
  {
   "cell_type": "code",
   "execution_count": 1439,
   "metadata": {
    "colab": {
     "base_uri": "https://localhost:8080/"
    },
    "executionInfo": {
     "elapsed": 17,
     "status": "ok",
     "timestamp": 1747809969621,
     "user": {
      "displayName": "Sakshi Shaw",
      "userId": "15432832009664614016"
     },
     "user_tz": -330
    },
    "id": "iZG6P-Fhzo5y",
    "outputId": "d9e5ec68-dc45-46e9-8306-471003da7db2"
   },
   "outputs": [
    {
     "name": "stdout",
     "output_type": "stream",
     "text": [
      "[0. 0.]\n",
      "[[0. 0. 0.]\n",
      " [0. 0. 0.]]\n"
     ]
    },
    {
     "data": {
      "text/plain": [
       "array([[[0., 0.],\n",
       "        [0., 0.],\n",
       "        [0., 0.]],\n",
       "\n",
       "       [[0., 0.],\n",
       "        [0., 0.],\n",
       "        [0., 0.]]])"
      ]
     },
     "execution_count": 1439,
     "metadata": {},
     "output_type": "execute_result"
    }
   ],
   "source": [
    "#np.zeros(argument)\n",
    "print(np.zeros(2))# zeros of 1D array,here zeros are function- will generate the array of zeros,will take only one arg\n",
    "print(np.zeros((2,3)))# 2D array ,whereascollection can be tuple or list\n",
    "np.zeros([2,3,2])# 3D array"
   ]
  },
  {
   "cell_type": "code",
   "execution_count": 1440,
   "metadata": {
    "colab": {
     "base_uri": "https://localhost:8080/"
    },
    "executionInfo": {
     "elapsed": 11,
     "status": "ok",
     "timestamp": 1747809969633,
     "user": {
      "displayName": "Sakshi Shaw",
      "userId": "15432832009664614016"
     },
     "user_tz": -330
    },
    "id": "fsy1kgT59_t2",
    "outputId": "3b804f46-14df-4751-ae02-aee7f1db6b3f"
   },
   "outputs": [
    {
     "name": "stdout",
     "output_type": "stream",
     "text": [
      "[1. 1.]\n",
      "[[1. 1.]\n",
      " [1. 1.]\n",
      " [1. 1.]\n",
      " [1. 1.]]\n",
      "[[[1. 1.]\n",
      "  [1. 1.]]\n",
      "\n",
      " [[1. 1.]\n",
      "  [1. 1.]]]\n"
     ]
    }
   ],
   "source": [
    "#np.ones()\n",
    "print(np.ones(2))# 1D array\n",
    "print(np.ones((4,2)))# 2D array\n",
    "print(np.ones((2,2,2)))# 3D array"
   ]
  },
  {
   "cell_type": "code",
   "execution_count": 1441,
   "metadata": {
    "colab": {
     "base_uri": "https://localhost:8080/"
    },
    "executionInfo": {
     "elapsed": 10,
     "status": "ok",
     "timestamp": 1747809969646,
     "user": {
      "displayName": "Sakshi Shaw",
      "userId": "15432832009664614016"
     },
     "user_tz": -330
    },
    "id": "G9Tv4NPw_L-q",
    "outputId": "c1a570cc-0129-4fa0-999e-01427c115cb5"
   },
   "outputs": [
    {
     "name": "stdout",
     "output_type": "stream",
     "text": [
      "[[1. 0. 0.]\n",
      " [0. 1. 0.]\n",
      " [0. 0. 1.]]\n",
      "[[1. 0. 0.]\n",
      " [0. 1. 0.]\n",
      " [0. 0. 1.]]\n"
     ]
    }
   ],
   "source": [
    "print(np.identity((3)))# n*n matrix\n",
    "print(np.eye((3)))#identity matrix,only 2D array,"
   ]
  },
  {
   "cell_type": "code",
   "execution_count": 1442,
   "metadata": {
    "executionInfo": {
     "elapsed": 43,
     "status": "ok",
     "timestamp": 1747809969692,
     "user": {
      "displayName": "Sakshi Shaw",
      "userId": "15432832009664614016"
     },
     "user_tz": -330
    },
    "id": "0PykqKrzmPfi"
   },
   "outputs": [],
   "source": [
    "# Array filled with a constant\n",
    "full = np.full((2, 2), 7)"
   ]
  },
  {
   "cell_type": "markdown",
   "metadata": {
    "id": "aWjFKp8QleX3"
   },
   "source": [
    "# Array Properties:\n",
    "\n",
    "arr.shape        # Dimensions (rows, columns)\n",
    "\n",
    "arr.ndim         # Number of dimensions\n",
    "\n",
    "arr.size         # Total number of elements\n",
    "\n",
    "\n",
    "arr.dtype        # Data type of elements\n",
    "\n",
    "arr.itemsize    # bytes per element\n",
    "\n",
    "arr.nbytes      # total bytes"
   ]
  },
  {
   "cell_type": "code",
   "execution_count": 1443,
   "metadata": {
    "colab": {
     "base_uri": "https://localhost:8080/"
    },
    "executionInfo": {
     "elapsed": 12,
     "status": "ok",
     "timestamp": 1747809969707,
     "user": {
      "displayName": "Sakshi Shaw",
      "userId": "15432832009664614016"
     },
     "user_tz": -330
    },
    "id": "6k1jf6l_S-gL",
    "outputId": "d9cf553e-23ac-47c9-ed6e-fadebc5f0cb1"
   },
   "outputs": [
    {
     "name": "stdout",
     "output_type": "stream",
     "text": [
      "[0 1 2 3 4 5]\n"
     ]
    }
   ],
   "source": [
    "#Using arr.reshape() will give a new shape to an array without changing the data\n",
    "a = np.arange(6)\n",
    "print(a)"
   ]
  },
  {
   "cell_type": "code",
   "execution_count": 1444,
   "metadata": {
    "colab": {
     "base_uri": "https://localhost:8080/"
    },
    "executionInfo": {
     "elapsed": 10,
     "status": "ok",
     "timestamp": 1747809969718,
     "user": {
      "displayName": "Sakshi Shaw",
      "userId": "15432832009664614016"
     },
     "user_tz": -330
    },
    "id": "gJ6CKSiaTPxs",
    "outputId": "317bef8e-1156-4f0e-8abc-821143a22ca4"
   },
   "outputs": [
    {
     "name": "stdout",
     "output_type": "stream",
     "text": [
      "[[0 1]\n",
      " [2 3]\n",
      " [4 5]]\n"
     ]
    }
   ],
   "source": [
    "b = a.reshape(3, 2)#row,column\n",
    "print(b)"
   ]
  },
  {
   "cell_type": "code",
   "execution_count": 1445,
   "metadata": {
    "colab": {
     "base_uri": "https://localhost:8080/"
    },
    "executionInfo": {
     "elapsed": 9,
     "status": "ok",
     "timestamp": 1747809969728,
     "user": {
      "displayName": "Sakshi Shaw",
      "userId": "15432832009664614016"
     },
     "user_tz": -330
    },
    "id": "7sK-E1u1Txup",
    "outputId": "6900f06d-3280-484c-edae-2e316a0d2684"
   },
   "outputs": [
    {
     "name": "stdout",
     "output_type": "stream",
     "text": [
      "(3, 3, 2)\n",
      "[1 2 2 7 5 4 5 4 7 5 8 9 2 7 3 6 7 2]\n"
     ]
    }
   ],
   "source": [
    "#using arr.flatten()it will convert any array to 1D array\n",
    "arr=np.array([[[1,2],[2,7],[5,4]],[[5,4],[7,5],[8,9]],[[2,7],[3,6],[7,2]]])\n",
    "print(arr.shape)\n",
    "print(arr.flatten())"
   ]
  },
  {
   "cell_type": "code",
   "execution_count": 1446,
   "metadata": {
    "colab": {
     "base_uri": "https://localhost:8080/"
    },
    "executionInfo": {
     "elapsed": 9,
     "status": "ok",
     "timestamp": 1747809969739,
     "user": {
      "displayName": "Sakshi Shaw",
      "userId": "15432832009664614016"
     },
     "user_tz": -330
    },
    "id": "PyLPSm9r33YC",
    "outputId": "940a5225-3925-4c6c-db79-13db3d7d6261"
   },
   "outputs": [
    {
     "data": {
      "text/plain": [
       "array([[ 1,  2,  3,  4,  5,  6],\n",
       "       [ 1,  7, 53, 22, 16,  7]])"
      ]
     },
     "execution_count": 1446,
     "metadata": {},
     "output_type": "execute_result"
    }
   ],
   "source": [
    "s=np.array([[1,2,3,4,5,6],[1,7,53,22,16,7]])\n",
    "s"
   ]
  },
  {
   "cell_type": "code",
   "execution_count": 1447,
   "metadata": {
    "colab": {
     "base_uri": "https://localhost:8080/"
    },
    "executionInfo": {
     "elapsed": 9,
     "status": "ok",
     "timestamp": 1747809969750,
     "user": {
      "displayName": "Sakshi Shaw",
      "userId": "15432832009664614016"
     },
     "user_tz": -330
    },
    "id": "23cK880GWZ2s",
    "outputId": "2a3b851d-6125-4b37-a72e-744f94943fe7"
   },
   "outputs": [
    {
     "name": "stdout",
     "output_type": "stream",
     "text": [
      "6\n"
     ]
    }
   ],
   "source": [
    "print(s[0][-1])"
   ]
  },
  {
   "cell_type": "code",
   "execution_count": 1447,
   "metadata": {
    "executionInfo": {
     "elapsed": 1,
     "status": "ok",
     "timestamp": 1747809969752,
     "user": {
      "displayName": "Sakshi Shaw",
      "userId": "15432832009664614016"
     },
     "user_tz": -330
    },
    "id": "nTDPBtRdmN56"
   },
   "outputs": [],
   "source": []
  },
  {
   "cell_type": "markdown",
   "metadata": {
    "id": "mUzFsExzbzAT"
   },
   "source": [
    "Indexing\n"
   ]
  },
  {
   "cell_type": "code",
   "execution_count": 1448,
   "metadata": {
    "colab": {
     "base_uri": "https://localhost:8080/",
     "height": 36
    },
    "executionInfo": {
     "elapsed": 5,
     "status": "ok",
     "timestamp": 1747809969760,
     "user": {
      "displayName": "Sakshi Shaw",
      "userId": "15432832009664614016"
     },
     "user_tz": -330
    },
    "id": "h5JVEjU_b2Vz",
    "outputId": "9d47c014-7015-483c-e5ae-c68f28e12d21"
   },
   "outputs": [
    {
     "data": {
      "application/vnd.google.colaboratory.intrinsic+json": {
       "type": "string"
      },
      "text/plain": [
       "'int64'"
      ]
     },
     "execution_count": 1448,
     "metadata": {},
     "output_type": "execute_result"
    }
   ],
   "source": [
    "data = np.array([1, 2, 3])\n",
    "data.dtype.name"
   ]
  },
  {
   "cell_type": "code",
   "execution_count": 1449,
   "metadata": {
    "colab": {
     "base_uri": "https://localhost:8080/"
    },
    "executionInfo": {
     "elapsed": 25,
     "status": "ok",
     "timestamp": 1747809969788,
     "user": {
      "displayName": "Sakshi Shaw",
      "userId": "15432832009664614016"
     },
     "user_tz": -330
    },
    "id": "Lll0xHtocbL6",
    "outputId": "99d67473-ae7d-4fcf-dffc-aa8c4c65ed81"
   },
   "outputs": [
    {
     "data": {
      "text/plain": [
       "np.int64(2)"
      ]
     },
     "execution_count": 1449,
     "metadata": {},
     "output_type": "execute_result"
    }
   ],
   "source": [
    "data[1]"
   ]
  },
  {
   "cell_type": "code",
   "execution_count": 1450,
   "metadata": {
    "colab": {
     "base_uri": "https://localhost:8080/"
    },
    "executionInfo": {
     "elapsed": 51,
     "status": "ok",
     "timestamp": 1747809969841,
     "user": {
      "displayName": "Sakshi Shaw",
      "userId": "15432832009664614016"
     },
     "user_tz": -330
    },
    "id": "XYanx3jzcc2T",
    "outputId": "324957e4-57f1-41df-c0b5-d922daaaad72"
   },
   "outputs": [
    {
     "data": {
      "text/plain": [
       "array([3, 2, 1])"
      ]
     },
     "execution_count": 1450,
     "metadata": {},
     "output_type": "execute_result"
    }
   ],
   "source": [
    "data[::-1]"
   ]
  },
  {
   "cell_type": "code",
   "execution_count": 1451,
   "metadata": {
    "colab": {
     "base_uri": "https://localhost:8080/"
    },
    "executionInfo": {
     "elapsed": 8,
     "status": "ok",
     "timestamp": 1747809969850,
     "user": {
      "displayName": "Sakshi Shaw",
      "userId": "15432832009664614016"
     },
     "user_tz": -330
    },
    "id": "yBx_yjwjcgGi",
    "outputId": "1c5a2b46-0b45-405b-f323-2f34a3581e1f"
   },
   "outputs": [
    {
     "data": {
      "text/plain": [
       "array([2, 3])"
      ]
     },
     "execution_count": 1451,
     "metadata": {},
     "output_type": "execute_result"
    }
   ],
   "source": [
    "data[-2:]"
   ]
  },
  {
   "cell_type": "code",
   "execution_count": 1452,
   "metadata": {
    "executionInfo": {
     "elapsed": 2,
     "status": "ok",
     "timestamp": 1747809969854,
     "user": {
      "displayName": "Sakshi Shaw",
      "userId": "15432832009664614016"
     },
     "user_tz": -330
    },
    "id": "WCNPhDiFORE7"
   },
   "outputs": [],
   "source": [
    "s=np.array([[1,2,3,4,5,6],[1,7,53,22,16,7]])"
   ]
  },
  {
   "cell_type": "code",
   "execution_count": 1453,
   "metadata": {
    "colab": {
     "base_uri": "https://localhost:8080/"
    },
    "executionInfo": {
     "elapsed": 10,
     "status": "ok",
     "timestamp": 1747809969866,
     "user": {
      "displayName": "Sakshi Shaw",
      "userId": "15432832009664614016"
     },
     "user_tz": -330
    },
    "id": "_MnzYqKXOTW4",
    "outputId": "9dbe945a-e5a1-4f52-d373-6f7d4fa84422"
   },
   "outputs": [
    {
     "data": {
      "text/plain": [
       "array([[ 4,  5,  6],\n",
       "       [22, 16,  7]])"
      ]
     },
     "execution_count": 1453,
     "metadata": {},
     "output_type": "execute_result"
    }
   ],
   "source": [
    "s[:3:,-3:]#first 3 last 3"
   ]
  },
  {
   "cell_type": "code",
   "execution_count": 1454,
   "metadata": {
    "colab": {
     "base_uri": "https://localhost:8080/"
    },
    "executionInfo": {
     "elapsed": 10,
     "status": "ok",
     "timestamp": 1747809969877,
     "user": {
      "displayName": "Sakshi Shaw",
      "userId": "15432832009664614016"
     },
     "user_tz": -330
    },
    "id": "Q5cJeacsco3s",
    "outputId": "51a88007-6f22-4fc4-f780-60377d0a4ee1"
   },
   "outputs": [
    {
     "data": {
      "text/plain": [
       "3"
      ]
     },
     "execution_count": 1454,
     "metadata": {},
     "output_type": "execute_result"
    }
   ],
   "source": [
    "a = np.array([[1 , 2, 3, 4], [5, 6, 7, 8], [9, 10, 11, 12]])\n",
    "len(a)"
   ]
  },
  {
   "cell_type": "code",
   "execution_count": 1455,
   "metadata": {
    "colab": {
     "base_uri": "https://localhost:8080/"
    },
    "executionInfo": {
     "elapsed": 10,
     "status": "ok",
     "timestamp": 1747809969889,
     "user": {
      "displayName": "Sakshi Shaw",
      "userId": "15432832009664614016"
     },
     "user_tz": -330
    },
    "id": "CGyZikkEcugR",
    "outputId": "5aa2f8f7-5a3d-4a84-9e43-398974190903"
   },
   "outputs": [
    {
     "name": "stdout",
     "output_type": "stream",
     "text": [
      "[1 2 3 4]\n"
     ]
    }
   ],
   "source": [
    "print(a[a < 5])"
   ]
  },
  {
   "cell_type": "code",
   "execution_count": 1456,
   "metadata": {
    "colab": {
     "base_uri": "https://localhost:8080/"
    },
    "executionInfo": {
     "elapsed": 7,
     "status": "ok",
     "timestamp": 1747809969897,
     "user": {
      "displayName": "Sakshi Shaw",
      "userId": "15432832009664614016"
     },
     "user_tz": -330
    },
    "id": "I1cgAgmNhqJ5",
    "outputId": "67e6f5f7-1202-4176-8e7c-517752ca2c0c"
   },
   "outputs": [
    {
     "name": "stdout",
     "output_type": "stream",
     "text": [
      "[ 2  4  6  8 10 12]\n"
     ]
    }
   ],
   "source": [
    "b=a[a%2==0]\n",
    "print(b)"
   ]
  },
  {
   "cell_type": "code",
   "execution_count": 1457,
   "metadata": {
    "colab": {
     "base_uri": "https://localhost:8080/"
    },
    "executionInfo": {
     "elapsed": 11,
     "status": "ok",
     "timestamp": 1747809969912,
     "user": {
      "displayName": "Sakshi Shaw",
      "userId": "15432832009664614016"
     },
     "user_tz": -330
    },
    "id": "iqAjw_17iOIp",
    "outputId": "f78e0078-2cbf-4b5e-dc67-3536b0141a05"
   },
   "outputs": [
    {
     "name": "stdout",
     "output_type": "stream",
     "text": [
      "[4 6 8]\n"
     ]
    }
   ],
   "source": [
    "c=b[(b>2) & (b<10)]\n",
    "print(c)"
   ]
  },
  {
   "cell_type": "code",
   "execution_count": 1458,
   "metadata": {
    "executionInfo": {
     "elapsed": 2,
     "status": "ok",
     "timestamp": 1747809969915,
     "user": {
      "displayName": "Sakshi Shaw",
      "userId": "15432832009664614016"
     },
     "user_tz": -330
    },
    "id": "df7Fr_5jdBbB"
   },
   "outputs": [],
   "source": [
    "a=np.array([[[1,2],[2,7],[5,4]],[[5,4],[7,5],[8,9]],[[2,7],[3,6],[7,2]]])"
   ]
  },
  {
   "cell_type": "code",
   "execution_count": 1459,
   "metadata": {
    "colab": {
     "base_uri": "https://localhost:8080/"
    },
    "executionInfo": {
     "elapsed": 10,
     "status": "ok",
     "timestamp": 1747809969926,
     "user": {
      "displayName": "Sakshi Shaw",
      "userId": "15432832009664614016"
     },
     "user_tz": -330
    },
    "id": "RG2WXogedD5S",
    "outputId": "91849cd6-edec-478e-f6bf-68f8b9c6393b"
   },
   "outputs": [
    {
     "data": {
      "text/plain": [
       "array([[[2, 7],\n",
       "        [3, 6],\n",
       "        [7, 2]],\n",
       "\n",
       "       [[5, 4],\n",
       "        [7, 5],\n",
       "        [8, 9]],\n",
       "\n",
       "       [[1, 2],\n",
       "        [2, 7],\n",
       "        [5, 4]]])"
      ]
     },
     "execution_count": 1459,
     "metadata": {},
     "output_type": "execute_result"
    }
   ],
   "source": [
    "a[::-1]"
   ]
  },
  {
   "cell_type": "code",
   "execution_count": 1460,
   "metadata": {
    "colab": {
     "base_uri": "https://localhost:8080/"
    },
    "executionInfo": {
     "elapsed": 47,
     "status": "ok",
     "timestamp": 1747809969976,
     "user": {
      "displayName": "Sakshi Shaw",
      "userId": "15432832009664614016"
     },
     "user_tz": -330
    },
    "id": "rBkZaQ9mdMlh",
    "outputId": "d7964fbe-db94-45b0-dec2-877e15b3e2f6"
   },
   "outputs": [
    {
     "data": {
      "text/plain": [
       "array([3, 6])"
      ]
     },
     "execution_count": 1460,
     "metadata": {},
     "output_type": "execute_result"
    }
   ],
   "source": [
    "a[2][1]"
   ]
  },
  {
   "cell_type": "code",
   "execution_count": 1461,
   "metadata": {
    "colab": {
     "base_uri": "https://localhost:8080/"
    },
    "executionInfo": {
     "elapsed": 8,
     "status": "ok",
     "timestamp": 1747809969985,
     "user": {
      "displayName": "Sakshi Shaw",
      "userId": "15432832009664614016"
     },
     "user_tz": -330
    },
    "id": "p6BM4Q8Xdrki",
    "outputId": "315efb92-55be-4478-a62e-59d4734ac3f4"
   },
   "outputs": [
    {
     "data": {
      "text/plain": [
       "np.int64(7)"
      ]
     },
     "execution_count": 1461,
     "metadata": {},
     "output_type": "execute_result"
    }
   ],
   "source": [
    "a[0][1][1]"
   ]
  },
  {
   "cell_type": "code",
   "execution_count": 1462,
   "metadata": {
    "colab": {
     "base_uri": "https://localhost:8080/"
    },
    "executionInfo": {
     "elapsed": 9,
     "status": "ok",
     "timestamp": 1747809969996,
     "user": {
      "displayName": "Sakshi Shaw",
      "userId": "15432832009664614016"
     },
     "user_tz": -330
    },
    "id": "n326Bv5Dd4Ty",
    "outputId": "3e197422-b46f-4136-8eb1-199d9b250803"
   },
   "outputs": [
    {
     "data": {
      "text/plain": [
       "array([[7, 2],\n",
       "       [3, 6],\n",
       "       [2, 7]])"
      ]
     },
     "execution_count": 1462,
     "metadata": {},
     "output_type": "execute_result"
    }
   ],
   "source": [
    "a[2][::-1]"
   ]
  },
  {
   "cell_type": "code",
   "execution_count": 1463,
   "metadata": {
    "colab": {
     "base_uri": "https://localhost:8080/"
    },
    "executionInfo": {
     "elapsed": 10,
     "status": "ok",
     "timestamp": 1747809970007,
     "user": {
      "displayName": "Sakshi Shaw",
      "userId": "15432832009664614016"
     },
     "user_tz": -330
    },
    "id": "jg44u5_9ejnq",
    "outputId": "98823689-7976-45da-d962-257a47eae5ad"
   },
   "outputs": [
    {
     "name": "stdout",
     "output_type": "stream",
     "text": [
      "[[[9 8 4 2]\n",
      "  [4 2 3 2]\n",
      "  [7 8 2 2]]\n",
      "\n",
      " [[5 8 1 1]\n",
      "  [3 7 7 8]\n",
      "  [8 5 5 5]]\n",
      "\n",
      " [[9 2 7 5]\n",
      "  [2 4 5 2]\n",
      "  [1 9 2 2]]]\n"
     ]
    }
   ],
   "source": [
    "a=np.random.randint(1,10,(3,3,4))\n",
    "print(a)"
   ]
  },
  {
   "cell_type": "code",
   "execution_count": 1464,
   "metadata": {
    "colab": {
     "base_uri": "https://localhost:8080/"
    },
    "executionInfo": {
     "elapsed": 7,
     "status": "ok",
     "timestamp": 1747809970015,
     "user": {
      "displayName": "Sakshi Shaw",
      "userId": "15432832009664614016"
     },
     "user_tz": -330
    },
    "id": "lK-neka4e3yK",
    "outputId": "5012760c-17d7-44b5-fdb0-054cd253437e"
   },
   "outputs": [
    {
     "name": "stdout",
     "output_type": "stream",
     "text": [
      "[3 7 7 8]\n"
     ]
    }
   ],
   "source": [
    "b=a[1][1]\n",
    "print(b)"
   ]
  },
  {
   "cell_type": "code",
   "execution_count": 1465,
   "metadata": {
    "colab": {
     "base_uri": "https://localhost:8080/"
    },
    "executionInfo": {
     "elapsed": 9,
     "status": "ok",
     "timestamp": 1747809970025,
     "user": {
      "displayName": "Sakshi Shaw",
      "userId": "15432832009664614016"
     },
     "user_tz": -330
    },
    "id": "ZGZnS9qZgif6",
    "outputId": "0ba67caf-31cb-4b38-f72d-d9eb2d32bc7e"
   },
   "outputs": [
    {
     "data": {
      "text/plain": [
       "array([3, 7, 7, 8])"
      ]
     },
     "execution_count": 1465,
     "metadata": {},
     "output_type": "execute_result"
    }
   ],
   "source": [
    "b[b>2]#boolean filtering"
   ]
  },
  {
   "cell_type": "code",
   "execution_count": 1466,
   "metadata": {
    "colab": {
     "base_uri": "https://localhost:8080/"
    },
    "executionInfo": {
     "elapsed": 26,
     "status": "ok",
     "timestamp": 1747809970053,
     "user": {
      "displayName": "Sakshi Shaw",
      "userId": "15432832009664614016"
     },
     "user_tz": -330
    },
    "id": "x6d-sum49Pgu",
    "outputId": "24b86873-f47f-4b7e-8d2e-874c49975f66"
   },
   "outputs": [
    {
     "name": "stdout",
     "output_type": "stream",
     "text": [
      "[[ 5  7 12]\n",
      " [18  9  8]]\n"
     ]
    }
   ],
   "source": [
    "a=np.array([[[1,2,3,4,5],[3,4,5,6,7],[6,8,10,11,12]],[[13,14,15,17,18],[3,4,6,8,9],[8,9,4,6,8]]])\n",
    "last_elements = a[:, :, -1]\n",
    "print(last_elements)"
   ]
  },
  {
   "cell_type": "code",
   "execution_count": 1467,
   "metadata": {
    "colab": {
     "base_uri": "https://localhost:8080/"
    },
    "executionInfo": {
     "elapsed": 45,
     "status": "ok",
     "timestamp": 1747809970103,
     "user": {
      "displayName": "Sakshi Shaw",
      "userId": "15432832009664614016"
     },
     "user_tz": -330
    },
    "id": "lVRaOnoE9vgs",
    "outputId": "f418a5c5-f096-4f9b-aeab-caad895748d6"
   },
   "outputs": [
    {
     "name": "stdout",
     "output_type": "stream",
     "text": [
      "[[ 5  7 12]\n",
      " [18  9  8]]\n"
     ]
    }
   ],
   "source": [
    "last_elements = a[:, :, -1]\n",
    "print(last_elements)"
   ]
  },
  {
   "cell_type": "code",
   "execution_count": 1468,
   "metadata": {
    "colab": {
     "base_uri": "https://localhost:8080/"
    },
    "executionInfo": {
     "elapsed": 20,
     "status": "ok",
     "timestamp": 1747809970126,
     "user": {
      "displayName": "Sakshi Shaw",
      "userId": "15432832009664614016"
     },
     "user_tz": -330
    },
    "id": "rBMfU-PDeKOb",
    "outputId": "17bc401c-ec5f-4ebc-df81-8a4c733980b7"
   },
   "outputs": [
    {
     "data": {
      "text/plain": [
       "array([[1, 2, 3, 4]])"
      ]
     },
     "execution_count": 1468,
     "metadata": {},
     "output_type": "execute_result"
    }
   ],
   "source": [
    "a = np.array([1, 2, 3, 4])\n",
    "arr=a[np.newaxis,:]\n",
    "arr"
   ]
  },
  {
   "cell_type": "code",
   "execution_count": 1469,
   "metadata": {
    "colab": {
     "base_uri": "https://localhost:8080/"
    },
    "executionInfo": {
     "elapsed": 10,
     "status": "ok",
     "timestamp": 1747809970137,
     "user": {
      "displayName": "Sakshi Shaw",
      "userId": "15432832009664614016"
     },
     "user_tz": -330
    },
    "id": "jjeQBbkvfkIF",
    "outputId": "06f1a91d-782d-480d-f1ec-3cbc699a2a2c"
   },
   "outputs": [
    {
     "name": "stdout",
     "output_type": "stream",
     "text": [
      "[3 5 9]\n"
     ]
    }
   ],
   "source": [
    "a=np.array([9,3,5])\n",
    "b=np.sort(a)\n",
    "print(b)"
   ]
  },
  {
   "cell_type": "markdown",
   "metadata": {
    "id": "lmNQJIQakAn7"
   },
   "source": [
    "Operations on array"
   ]
  },
  {
   "cell_type": "markdown",
   "metadata": {
    "id": "zuTwinGOkFkD"
   },
   "source": [
    "There kinds of operation we perform in array\n",
    "i) array to array\n",
    "ii)array with scaler operations\n",
    "iii)array with inbuild operations"
   ]
  },
  {
   "cell_type": "markdown",
   "metadata": {
    "id": "BdmTiE74k_zK"
   },
   "source": [
    "to perform operation we required two array should be of same dimension and same no. of elements"
   ]
  },
  {
   "cell_type": "code",
   "execution_count": 1470,
   "metadata": {
    "colab": {
     "base_uri": "https://localhost:8080/"
    },
    "executionInfo": {
     "elapsed": 18,
     "status": "ok",
     "timestamp": 1747809970157,
     "user": {
      "displayName": "Sakshi Shaw",
      "userId": "15432832009664614016"
     },
     "user_tz": -330
    },
    "id": "pOjDLwl0k6fh",
    "outputId": "93bab894-cd2e-4cd6-c93a-63c10db155f6"
   },
   "outputs": [
    {
     "name": "stdout",
     "output_type": "stream",
     "text": [
      "[13 15  7]\n",
      "False\n",
      "False\n",
      "[1 1 1]\n",
      "[0 0 3]\n"
     ]
    }
   ],
   "source": [
    "a = np.array([5,6,7])\n",
    "b=np.array([8,9,3])\n",
    "\n",
    "print(a|b)\n",
    "print(a in b)\n",
    "print(a is b)\n",
    "print(a>>2)\n",
    "print(a&b)\n"
   ]
  },
  {
   "cell_type": "markdown",
   "metadata": {
    "id": "iatsHkMjoYGy"
   },
   "source": [
    "Array with scaler operation/constrant"
   ]
  },
  {
   "cell_type": "code",
   "execution_count": 1471,
   "metadata": {
    "colab": {
     "base_uri": "https://localhost:8080/"
    },
    "executionInfo": {
     "elapsed": 8,
     "status": "ok",
     "timestamp": 1747809970166,
     "user": {
      "displayName": "Sakshi Shaw",
      "userId": "15432832009664614016"
     },
     "user_tz": -330
    },
    "id": "jaRCYtl_mRJJ",
    "outputId": "213e0acf-c778-4646-9e2c-bd4ccf2ebd28"
   },
   "outputs": [
    {
     "name": "stdout",
     "output_type": "stream",
     "text": [
      "[11 12 13 14]\n",
      "[-19 -18 -17 -16]\n",
      "[10 20 30 40]\n",
      "[0.1 0.2 0.3 0.4]\n",
      "[1 2 3 4]\n",
      "[0 1 1 2]\n",
      "[False False False False]\n",
      "[ True  True  True  True]\n",
      "[False False False False]\n",
      "[False False False False]\n",
      "[ True  True  True  True]\n",
      "[ 4  8 12 16]\n",
      "[0 0 0 1]\n"
     ]
    }
   ],
   "source": [
    "a = np.array([1,2,3,4])\n",
    "print(a+10)\n",
    "print(a-20)\n",
    "print(a*10)\n",
    "print(a/10)\n",
    "print(a%10)\n",
    "print(a//2)\n",
    "print(a>5)\n",
    "print(a<6)\n",
    "print(a==7)\n",
    "print(a>=5)\n",
    "print(a<=5)\n",
    "print(a<<2)\n",
    "print(a>>2)"
   ]
  },
  {
   "cell_type": "markdown",
   "metadata": {
    "id": "anzn4nOJrllD"
   },
   "source": [
    "array with inbuild function or aggreigate function"
   ]
  },
  {
   "cell_type": "code",
   "execution_count": 1472,
   "metadata": {
    "colab": {
     "base_uri": "https://localhost:8080/"
    },
    "executionInfo": {
     "elapsed": 15,
     "status": "ok",
     "timestamp": 1747809970183,
     "user": {
      "displayName": "Sakshi Shaw",
      "userId": "15432832009664614016"
     },
     "user_tz": -330
    },
    "id": "X9cIzIEZmHx8",
    "outputId": "7860e1ce-aad1-495b-a646-d4a9e8b43a83"
   },
   "outputs": [
    {
     "name": "stdout",
     "output_type": "stream",
     "text": [
      "12\n",
      "2.4\n",
      "2.0\n",
      "1.019803902718557\n",
      "1.0\n",
      "[ 1  3  5  8 12]\n",
      "4\n",
      "1\n"
     ]
    }
   ],
   "source": [
    "a = np.array([-1,2,2,-3,4])#np.mode(var) will not work\n",
    "b=abs(a)\n",
    "print(b.sum())\n",
    "print(np.mean(b))\n",
    "print(np.median(b))\n",
    "print(np.std(b))\n",
    "print(np.corrcoef(b))\n",
    "print(np.cumsum(b))\n",
    "print(b.max())\n",
    "print(b.min())"
   ]
  },
  {
   "cell_type": "code",
   "execution_count": 1473,
   "metadata": {
    "colab": {
     "base_uri": "https://localhost:8080/"
    },
    "executionInfo": {
     "elapsed": 10,
     "status": "ok",
     "timestamp": 1747809970195,
     "user": {
      "displayName": "Sakshi Shaw",
      "userId": "15432832009664614016"
     },
     "user_tz": -330
    },
    "id": "RclRxrJOulrD",
    "outputId": "5f03e0f7-dfb2-4988-a47d-e2a87d6b6b00"
   },
   "outputs": [
    {
     "name": "stdout",
     "output_type": "stream",
     "text": [
      "[1 2 3 3 4 5]\n",
      "26\n"
     ]
    }
   ],
   "source": [
    "a=np.array([1,2,3])\n",
    "b=np.array([3,4,5])\n",
    "print(np.concatenate((a,b),axis=0))#np.concatenate((ar1,ar2),axis=0)\n",
    "print(np.dot(a,b))#prouct aXb"
   ]
  },
  {
   "cell_type": "markdown",
   "metadata": {
    "id": "Z8NZFIdBmmyB"
   },
   "source": [
    "#Aggregate Functions\n",
    "arr = np.array([[1, 2, 3], [4, 5, 6]])\n",
    "\n",
    "np.sum(arr)         # 21\n",
    "\n",
    "np.sum(arr, axis=0) # [5, 7, 9] - column-wise\n",
    "\n",
    "np.mean(arr)        # 3.5\n",
    "\n",
    "np.min(arr)         # 1\n",
    "\n",
    "np.max(arr)         # 6\n",
    "\n",
    "np.std(arr)         # 1.707..."
   ]
  },
  {
   "cell_type": "markdown",
   "metadata": {
    "id": "_ySc1rVtm3iL"
   },
   "source": [
    "# Matrix Operations"
   ]
  },
  {
   "cell_type": "code",
   "execution_count": 1474,
   "metadata": {
    "executionInfo": {
     "elapsed": 1,
     "status": "ok",
     "timestamp": 1747809970200,
     "user": {
      "displayName": "Sakshi Shaw",
      "userId": "15432832009664614016"
     },
     "user_tz": -330
    },
    "id": "Algco-ODm1C6"
   },
   "outputs": [],
   "source": [
    "a = np.array([[1, 2], [3, 4]])\n",
    "b = np.array([[5, 6], [7, 8]])"
   ]
  },
  {
   "cell_type": "code",
   "execution_count": 1475,
   "metadata": {
    "colab": {
     "base_uri": "https://localhost:8080/"
    },
    "executionInfo": {
     "elapsed": 16,
     "status": "ok",
     "timestamp": 1747809970267,
     "user": {
      "displayName": "Sakshi Shaw",
      "userId": "15432832009664614016"
     },
     "user_tz": -330
    },
    "id": "JqpGbzwWnScr",
    "outputId": "835d23e3-bae9-49b1-8040-b58c16e68e1d"
   },
   "outputs": [
    {
     "data": {
      "text/plain": [
       "array([[1, 3],\n",
       "       [2, 4]])"
      ]
     },
     "execution_count": 1475,
     "metadata": {},
     "output_type": "execute_result"
    }
   ],
   "source": [
    "# Transpose\n",
    "a.T"
   ]
  },
  {
   "cell_type": "code",
   "execution_count": 1476,
   "metadata": {
    "colab": {
     "base_uri": "https://localhost:8080/"
    },
    "executionInfo": {
     "elapsed": 11,
     "status": "ok",
     "timestamp": 1747809970280,
     "user": {
      "displayName": "Sakshi Shaw",
      "userId": "15432832009664614016"
     },
     "user_tz": -330
    },
    "id": "imx_O0J7nUhy",
    "outputId": "14fbaec9-954a-4dcc-e568-d8396bb232e6"
   },
   "outputs": [
    {
     "data": {
      "text/plain": [
       "array([[-2. ,  1. ],\n",
       "       [ 1.5, -0.5]])"
      ]
     },
     "execution_count": 1476,
     "metadata": {},
     "output_type": "execute_result"
    }
   ],
   "source": [
    "# Inverse (if square & invertible)\n",
    "np.linalg.inv(a)"
   ]
  },
  {
   "cell_type": "code",
   "execution_count": 1477,
   "metadata": {
    "colab": {
     "base_uri": "https://localhost:8080/"
    },
    "executionInfo": {
     "elapsed": 11,
     "status": "ok",
     "timestamp": 1747809970292,
     "user": {
      "displayName": "Sakshi Shaw",
      "userId": "15432832009664614016"
     },
     "user_tz": -330
    },
    "id": "PbRUqN50nWnx",
    "outputId": "5bf21075-6687-4150-c0e0-56f78266a512"
   },
   "outputs": [
    {
     "data": {
      "text/plain": [
       "np.float64(-2.0000000000000004)"
      ]
     },
     "execution_count": 1477,
     "metadata": {},
     "output_type": "execute_result"
    }
   ],
   "source": [
    "# Determinant\n",
    "np.linalg.det(a)"
   ]
  },
  {
   "cell_type": "markdown",
   "metadata": {
    "id": "kTsAklZ1nh1A"
   },
   "source": [
    "#  Combining Arrays"
   ]
  },
  {
   "cell_type": "code",
   "execution_count": 1478,
   "metadata": {
    "colab": {
     "base_uri": "https://localhost:8080/"
    },
    "executionInfo": {
     "elapsed": 8,
     "status": "ok",
     "timestamp": 1747809970301,
     "user": {
      "displayName": "Sakshi Shaw",
      "userId": "15432832009664614016"
     },
     "user_tz": -330
    },
    "id": "yFWE2OJ9nmvP",
    "outputId": "9fd33dc7-bae4-4090-b256-9aee8ef16914"
   },
   "outputs": [
    {
     "data": {
      "text/plain": [
       "array([[1, 2, 5, 6],\n",
       "       [3, 4, 7, 8]])"
      ]
     },
     "execution_count": 1478,
     "metadata": {},
     "output_type": "execute_result"
    }
   ],
   "source": [
    "# Horizontal stack (column-wise)\n",
    "np.hstack((a, b))  # [[1 2 3 4]]"
   ]
  },
  {
   "cell_type": "code",
   "execution_count": 1479,
   "metadata": {
    "colab": {
     "base_uri": "https://localhost:8080/"
    },
    "executionInfo": {
     "elapsed": 10,
     "status": "ok",
     "timestamp": 1747809970312,
     "user": {
      "displayName": "Sakshi Shaw",
      "userId": "15432832009664614016"
     },
     "user_tz": -330
    },
    "id": "N_laoORvnq-M",
    "outputId": "88a5c43e-8d24-4c32-f5fa-ee0aa969a51c"
   },
   "outputs": [
    {
     "data": {
      "text/plain": [
       "array([[1, 2],\n",
       "       [3, 4],\n",
       "       [5, 6],\n",
       "       [7, 8]])"
      ]
     },
     "execution_count": 1479,
     "metadata": {},
     "output_type": "execute_result"
    }
   ],
   "source": [
    "# Vertical stack (row-wise)\n",
    "np.vstack((a, b))  # [[1 2], [3 4]]"
   ]
  },
  {
   "cell_type": "code",
   "execution_count": 1480,
   "metadata": {
    "colab": {
     "base_uri": "https://localhost:8080/"
    },
    "executionInfo": {
     "elapsed": 12,
     "status": "ok",
     "timestamp": 1747809970326,
     "user": {
      "displayName": "Sakshi Shaw",
      "userId": "15432832009664614016"
     },
     "user_tz": -330
    },
    "id": "n6vkg1SMnsxB",
    "outputId": "e14163dc-a7c2-4af7-b290-6fa322dfe52f"
   },
   "outputs": [
    {
     "data": {
      "text/plain": [
       "array([[1, 2],\n",
       "       [3, 4],\n",
       "       [5, 6],\n",
       "       [7, 8]])"
      ]
     },
     "execution_count": 1480,
     "metadata": {},
     "output_type": "execute_result"
    }
   ],
   "source": [
    "# Concatenate\n",
    "np.concatenate((a, b), axis=0)  # same as vstack"
   ]
  },
  {
   "cell_type": "markdown",
   "metadata": {
    "id": "UjtCOGoCnxjj"
   },
   "source": [
    "#Splitting Arrays"
   ]
  },
  {
   "cell_type": "code",
   "execution_count": 1481,
   "metadata": {
    "executionInfo": {
     "elapsed": 2,
     "status": "ok",
     "timestamp": 1747809970329,
     "user": {
      "displayName": "Sakshi Shaw",
      "userId": "15432832009664614016"
     },
     "user_tz": -330
    },
    "id": "rZLWYsOQnzmB"
   },
   "outputs": [],
   "source": [
    "a = np.array([[1, 2, 3], [4, 5, 6]])"
   ]
  },
  {
   "cell_type": "code",
   "execution_count": 1482,
   "metadata": {
    "colab": {
     "base_uri": "https://localhost:8080/"
    },
    "executionInfo": {
     "elapsed": 14,
     "status": "ok",
     "timestamp": 1747809970346,
     "user": {
      "displayName": "Sakshi Shaw",
      "userId": "15432832009664614016"
     },
     "user_tz": -330
    },
    "id": "5TK7V6Yin2j3",
    "outputId": "c6750cdc-1da7-487f-ad91-4c424baca210"
   },
   "outputs": [
    {
     "data": {
      "text/plain": [
       "[array([[1],\n",
       "        [4]]),\n",
       " array([[2],\n",
       "        [5]]),\n",
       " array([[3],\n",
       "        [6]])]"
      ]
     },
     "execution_count": 1482,
     "metadata": {},
     "output_type": "execute_result"
    }
   ],
   "source": [
    "# Split into 3 columns\n",
    "np.hsplit(a, 3)"
   ]
  },
  {
   "cell_type": "code",
   "execution_count": 1483,
   "metadata": {
    "colab": {
     "base_uri": "https://localhost:8080/"
    },
    "executionInfo": {
     "elapsed": 57,
     "status": "ok",
     "timestamp": 1747809970405,
     "user": {
      "displayName": "Sakshi Shaw",
      "userId": "15432832009664614016"
     },
     "user_tz": -330
    },
    "id": "boit4moqn6RS",
    "outputId": "7f896c27-0d1e-409c-8c56-cc66baa7efd4"
   },
   "outputs": [
    {
     "data": {
      "text/plain": [
       "[array([[1, 2, 3]]), array([[4, 5, 6]])]"
      ]
     },
     "execution_count": 1483,
     "metadata": {},
     "output_type": "execute_result"
    }
   ],
   "source": [
    "# Split into 2 rows\n",
    "np.vsplit(a, 2)"
   ]
  },
  {
   "cell_type": "markdown",
   "metadata": {
    "id": "EZv3VmCSoA3Q"
   },
   "source": [
    "# Broadcasting"
   ]
  },
  {
   "cell_type": "code",
   "execution_count": 1484,
   "metadata": {
    "executionInfo": {
     "elapsed": 2,
     "status": "ok",
     "timestamp": 1747809970408,
     "user": {
      "displayName": "Sakshi Shaw",
      "userId": "15432832009664614016"
     },
     "user_tz": -330
    },
    "id": "1vVeTlEAoCk3"
   },
   "outputs": [],
   "source": [
    "a = np.array([1, 2, 3])\n",
    "b = 2"
   ]
  },
  {
   "cell_type": "code",
   "execution_count": 1485,
   "metadata": {
    "colab": {
     "base_uri": "https://localhost:8080/"
    },
    "executionInfo": {
     "elapsed": 13,
     "status": "ok",
     "timestamp": 1747809970431,
     "user": {
      "displayName": "Sakshi Shaw",
      "userId": "15432832009664614016"
     },
     "user_tz": -330
    },
    "id": "_IdEvO5joE-g",
    "outputId": "95901dab-44d7-432d-a979-d756909a5ff2"
   },
   "outputs": [
    {
     "data": {
      "text/plain": [
       "array([3, 4, 5])"
      ]
     },
     "execution_count": 1485,
     "metadata": {},
     "output_type": "execute_result"
    }
   ],
   "source": [
    "a + b"
   ]
  },
  {
   "cell_type": "code",
   "execution_count": 1486,
   "metadata": {
    "executionInfo": {
     "elapsed": 3,
     "status": "ok",
     "timestamp": 1747809970446,
     "user": {
      "displayName": "Sakshi Shaw",
      "userId": "15432832009664614016"
     },
     "user_tz": -330
    },
    "id": "l4jfp_9uoJcY"
   },
   "outputs": [],
   "source": [
    "# Broadcasting in 2D\n",
    "m = np.array([[1], [2], [3]])\n",
    "n = np.array([10, 20, 30])"
   ]
  },
  {
   "cell_type": "code",
   "execution_count": 1487,
   "metadata": {
    "colab": {
     "base_uri": "https://localhost:8080/"
    },
    "executionInfo": {
     "elapsed": 12,
     "status": "ok",
     "timestamp": 1747809970462,
     "user": {
      "displayName": "Sakshi Shaw",
      "userId": "15432832009664614016"
     },
     "user_tz": -330
    },
    "id": "W4JzUSPQoLyy",
    "outputId": "a0753246-cb3c-4732-fef1-66a8cafe77bb"
   },
   "outputs": [
    {
     "data": {
      "text/plain": [
       "array([[11, 21, 31],\n",
       "       [12, 22, 32],\n",
       "       [13, 23, 33]])"
      ]
     },
     "execution_count": 1487,
     "metadata": {},
     "output_type": "execute_result"
    }
   ],
   "source": [
    "m + n"
   ]
  },
  {
   "cell_type": "markdown",
   "metadata": {
    "id": "Oy51O-tSoQ54"
   },
   "source": [
    "# Mathematical Functions\n",
    "x = np.array([1, 4, 9])\n",
    "\n",
    "np.sqrt(x)       # [1. 2. 3.]\n",
    "\n",
    "np.exp(x)        # [2.71, 54.59, 8103.08]\n",
    "\n",
    "np.log(x)        # [0.0, 1.386, 2.197]\n",
    "\n",
    "np.sin(x)        # Trigonometric sine\n",
    "\n",
    "np.abs([-1, -2]) # [1 2]"
   ]
  },
  {
   "cell_type": "markdown",
   "metadata": {
    "id": "ZU29yu_SocDY"
   },
   "source": [
    "# Statistical Functions\n",
    "a = np.array([[1, 2], [3, 4]])\n",
    "\n",
    "np.mean(a)       # 2.5\n",
    "\n",
    "np.median(a)     # 2.5\n",
    "\n",
    "np.std(a)        # Standard deviation\n",
    "\n",
    "np.var(a)        # Variance\n",
    "\n",
    "np.min(a)        # 1\n",
    "\n",
    "np.max(a)        # 4\n",
    "\n",
    "np.sum(a, axis=0)  # Column sum: [4, 6]\n",
    "\n",
    "np.sum(a, axis=1)  # Row sum: [3, 7]"
   ]
  },
  {
   "cell_type": "markdown",
   "metadata": {
    "id": "i-GTdU0YomvK"
   },
   "source": [
    "#  Working with Data in NumPy"
   ]
  },
  {
   "cell_type": "markdown",
   "metadata": {
    "id": "TluB3jm-pP2r"
   },
   "source": [
    " 1. Reading and Writing Data with NumPy\n",
    "\n",
    "NumPy provides methods to read/write data in text and binary formats."
   ]
  },
  {
   "cell_type": "markdown",
   "metadata": {
    "id": "pr4a96nYpg1B"
   },
   "source": [
    " Load from a CSV or text file\n",
    "\n",
    "data = np.loadtxt('data.txt', delimiter=',')\n",
    "\n",
    "Load with missing values and specific dtype\n",
    "\n",
    "data = np.genfromtxt('data.csv', delimiter=',', dtype=float, skip_header=1)\n",
    "\n",
    " Load binary .npy file\n",
    "\n",
    "arr = np.load('array.npy')\n"
   ]
  },
  {
   "cell_type": "code",
   "execution_count": 1487,
   "metadata": {
    "executionInfo": {
     "elapsed": 2,
     "status": "ok",
     "timestamp": 1747809970466,
     "user": {
      "displayName": "Sakshi Shaw",
      "userId": "15432832009664614016"
     },
     "user_tz": -330
    },
    "id": "K3FV1P9GeVy_"
   },
   "outputs": [],
   "source": []
  }
 ],
 "metadata": {
  "colab": {
   "authorship_tag": "ABX9TyNSfujMfSa8Z16CLSIYEiGx",
   "provenance": []
  },
  "kernelspec": {
   "display_name": "Python 3",
   "name": "python3"
  },
  "language_info": {
   "name": "python"
  }
 },
 "nbformat": 4,
 "nbformat_minor": 0
}
